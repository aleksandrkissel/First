{
  "nbformat": 4,
  "nbformat_minor": 0,
  "metadata": {
    "colab": {
      "provenance": [],
      "authorship_tag": "ABX9TyPftGG657GhoDxgC1UV1qh1",
      "include_colab_link": true
    },
    "kernelspec": {
      "name": "python3",
      "display_name": "Python 3"
    },
    "language_info": {
      "name": "python"
    }
  },
  "cells": [
    {
      "cell_type": "markdown",
      "metadata": {
        "id": "view-in-github",
        "colab_type": "text"
      },
      "source": [
        "<a href=\"https://colab.research.google.com/github/aleksandrkissel/First/blob/master/%D0%9B%D0%B0%D0%B1%D0%BE%D1%80%D0%B0%D1%82%D0%BE%D1%80%D0%BD%D0%B0%D1%8F_%D1%80%D0%B0%D0%B1%D0%BE%D1%82%D0%B0_%E2%84%963.ipynb\" target=\"_parent\"><img src=\"https://colab.research.google.com/assets/colab-badge.svg\" alt=\"Open In Colab\"/></a>"
      ]
    },
    {
      "cell_type": "code",
      "execution_count": null,
      "metadata": {
        "id": "mjOya9dIsynY"
      },
      "outputs": [],
      "source": [
        "# 1. Подключение Pandas и NumPy\n",
        "import pandas as pd\n",
        "import numpy as np"
      ]
    },
    {
      "cell_type": "code",
      "source": [
        "# 2. Пример создания таблицы (DataFrame) с помощью кода\n",
        "df_init = pd.DataFrame({\n",
        "    'Название ТЭС': ['Сургутская ГРЭС-2', 'Рефтинская ГРЭС', 'Костромская ГРЭС'],\n",
        "    'Мощность': [5657, 3800, 3600],\n",
        "    'Собственник': ['Юнипро', 'Кузбассэнерго', 'Интер РАО']\n",
        "})\n",
        "\n",
        "df_init.head()"
      ],
      "metadata": {
        "colab": {
          "base_uri": "https://localhost:8080/",
          "height": 143
        },
        "id": "wip6245nyzUt",
        "outputId": "a62e5b37-2297-4646-d707-8b30738540c9"
      },
      "execution_count": 62,
      "outputs": [
        {
          "output_type": "execute_result",
          "data": {
            "text/plain": [
              "        Название ТЭС  Мощность    Собственник\n",
              "0  Сургутская ГРЭС-2      5657         Юнипро\n",
              "1    Рефтинская ГРЭС      3800  Кузбассэнерго\n",
              "2   Костромская ГРЭС      3600      Интер РАО"
            ],
            "text/html": [
              "\n",
              "  <div id=\"df-70b07795-d7d9-4211-b986-09cef0530d0d\">\n",
              "    <div class=\"colab-df-container\">\n",
              "      <div>\n",
              "<style scoped>\n",
              "    .dataframe tbody tr th:only-of-type {\n",
              "        vertical-align: middle;\n",
              "    }\n",
              "\n",
              "    .dataframe tbody tr th {\n",
              "        vertical-align: top;\n",
              "    }\n",
              "\n",
              "    .dataframe thead th {\n",
              "        text-align: right;\n",
              "    }\n",
              "</style>\n",
              "<table border=\"1\" class=\"dataframe\">\n",
              "  <thead>\n",
              "    <tr style=\"text-align: right;\">\n",
              "      <th></th>\n",
              "      <th>Название ТЭС</th>\n",
              "      <th>Мощность</th>\n",
              "      <th>Собственник</th>\n",
              "    </tr>\n",
              "  </thead>\n",
              "  <tbody>\n",
              "    <tr>\n",
              "      <th>0</th>\n",
              "      <td>Сургутская ГРЭС-2</td>\n",
              "      <td>5657</td>\n",
              "      <td>Юнипро</td>\n",
              "    </tr>\n",
              "    <tr>\n",
              "      <th>1</th>\n",
              "      <td>Рефтинская ГРЭС</td>\n",
              "      <td>3800</td>\n",
              "      <td>Кузбассэнерго</td>\n",
              "    </tr>\n",
              "    <tr>\n",
              "      <th>2</th>\n",
              "      <td>Костромская ГРЭС</td>\n",
              "      <td>3600</td>\n",
              "      <td>Интер РАО</td>\n",
              "    </tr>\n",
              "  </tbody>\n",
              "</table>\n",
              "</div>\n",
              "      <button class=\"colab-df-convert\" onclick=\"convertToInteractive('df-70b07795-d7d9-4211-b986-09cef0530d0d')\"\n",
              "              title=\"Convert this dataframe to an interactive table.\"\n",
              "              style=\"display:none;\">\n",
              "        \n",
              "  <svg xmlns=\"http://www.w3.org/2000/svg\" height=\"24px\"viewBox=\"0 0 24 24\"\n",
              "       width=\"24px\">\n",
              "    <path d=\"M0 0h24v24H0V0z\" fill=\"none\"/>\n",
              "    <path d=\"M18.56 5.44l.94 2.06.94-2.06 2.06-.94-2.06-.94-.94-2.06-.94 2.06-2.06.94zm-11 1L8.5 8.5l.94-2.06 2.06-.94-2.06-.94L8.5 2.5l-.94 2.06-2.06.94zm10 10l.94 2.06.94-2.06 2.06-.94-2.06-.94-.94-2.06-.94 2.06-2.06.94z\"/><path d=\"M17.41 7.96l-1.37-1.37c-.4-.4-.92-.59-1.43-.59-.52 0-1.04.2-1.43.59L10.3 9.45l-7.72 7.72c-.78.78-.78 2.05 0 2.83L4 21.41c.39.39.9.59 1.41.59.51 0 1.02-.2 1.41-.59l7.78-7.78 2.81-2.81c.8-.78.8-2.07 0-2.86zM5.41 20L4 18.59l7.72-7.72 1.47 1.35L5.41 20z\"/>\n",
              "  </svg>\n",
              "      </button>\n",
              "      \n",
              "  <style>\n",
              "    .colab-df-container {\n",
              "      display:flex;\n",
              "      flex-wrap:wrap;\n",
              "      gap: 12px;\n",
              "    }\n",
              "\n",
              "    .colab-df-convert {\n",
              "      background-color: #E8F0FE;\n",
              "      border: none;\n",
              "      border-radius: 50%;\n",
              "      cursor: pointer;\n",
              "      display: none;\n",
              "      fill: #1967D2;\n",
              "      height: 32px;\n",
              "      padding: 0 0 0 0;\n",
              "      width: 32px;\n",
              "    }\n",
              "\n",
              "    .colab-df-convert:hover {\n",
              "      background-color: #E2EBFA;\n",
              "      box-shadow: 0px 1px 2px rgba(60, 64, 67, 0.3), 0px 1px 3px 1px rgba(60, 64, 67, 0.15);\n",
              "      fill: #174EA6;\n",
              "    }\n",
              "\n",
              "    [theme=dark] .colab-df-convert {\n",
              "      background-color: #3B4455;\n",
              "      fill: #D2E3FC;\n",
              "    }\n",
              "\n",
              "    [theme=dark] .colab-df-convert:hover {\n",
              "      background-color: #434B5C;\n",
              "      box-shadow: 0px 1px 3px 1px rgba(0, 0, 0, 0.15);\n",
              "      filter: drop-shadow(0px 1px 2px rgba(0, 0, 0, 0.3));\n",
              "      fill: #FFFFFF;\n",
              "    }\n",
              "  </style>\n",
              "\n",
              "      <script>\n",
              "        const buttonEl =\n",
              "          document.querySelector('#df-70b07795-d7d9-4211-b986-09cef0530d0d button.colab-df-convert');\n",
              "        buttonEl.style.display =\n",
              "          google.colab.kernel.accessAllowed ? 'block' : 'none';\n",
              "\n",
              "        async function convertToInteractive(key) {\n",
              "          const element = document.querySelector('#df-70b07795-d7d9-4211-b986-09cef0530d0d');\n",
              "          const dataTable =\n",
              "            await google.colab.kernel.invokeFunction('convertToInteractive',\n",
              "                                                     [key], {});\n",
              "          if (!dataTable) return;\n",
              "\n",
              "          const docLinkHtml = 'Like what you see? Visit the ' +\n",
              "            '<a target=\"_blank\" href=https://colab.research.google.com/notebooks/data_table.ipynb>data table notebook</a>'\n",
              "            + ' to learn more about interactive tables.';\n",
              "          element.innerHTML = '';\n",
              "          dataTable['output_type'] = 'display_data';\n",
              "          await google.colab.output.renderOutput(dataTable, element);\n",
              "          const docLink = document.createElement('div');\n",
              "          docLink.innerHTML = docLinkHtml;\n",
              "          element.appendChild(docLink);\n",
              "        }\n",
              "      </script>\n",
              "    </div>\n",
              "  </div>\n",
              "  "
            ]
          },
          "metadata": {},
          "execution_count": 62
        }
      ]
    },
    {
      "cell_type": "code",
      "source": [
        "# 3. Добавление строк\n",
        "# Для добавления строк можно использовать функцию append. По сути здесь создается еще одна таблица тем же способом, что df_init. Затем добавляется к df_init\n",
        "df_exted = df_init.append(pd.DataFrame({'Название ТЭС': ['Пермская ГРЭС', 'Сургутская ГРЭС-1'], 'Мощность': [3363, 3333], 'Собственник': ['Интер РАО', 'ОГК-2']}), ignore_index = True)\n",
        "\n",
        "# первые строки таблицы можно вывести на экран в более простом виде, применив функцию print.\n",
        "print(df_exted)\n",
        "print()\n",
        "\n",
        "# Получение списка имен столбцов\n",
        "print('имена столбцов:', df_exted.columns.values)"
      ],
      "metadata": {
        "colab": {
          "base_uri": "https://localhost:8080/"
        },
        "id": "OjjGyFzN1OkF",
        "outputId": "ab591c8b-f5b8-446a-8d96-2034d33a73ca"
      },
      "execution_count": 80,
      "outputs": [
        {
          "output_type": "stream",
          "name": "stdout",
          "text": [
            "        Название ТЭС  Мощность    Собственник\n",
            "0  Сургутская ГРЭС-2      5657         Юнипро\n",
            "1    Рефтинская ГРЭС      3800  Кузбассэнерго\n",
            "2   Костромская ГРЭС      3600      Интер РАО\n",
            "3      Пермская ГРЭС      3363      Интер РАО\n",
            "4  Сургутская ГРЭС-1      3333          ОГК-2\n",
            "\n",
            "имена столбцов: ['Название ТЭС' 'Мощность' 'Собственник']\n"
          ]
        },
        {
          "output_type": "stream",
          "name": "stderr",
          "text": [
            "<ipython-input-80-10b83b6ac0d7>:3: FutureWarning: The frame.append method is deprecated and will be removed from pandas in a future version. Use pandas.concat instead.\n",
            "  df_exted = df_init.append(pd.DataFrame({'Название ТЭС': ['Пермская ГРЭС', 'Сургутская ГРЭС-1'], 'Мощность': [3363, 3333], 'Собственник': ['Интер РАО', 'ОГК-2']}), ignore_index = True)\n"
          ]
        }
      ]
    },
    {
      "cell_type": "code",
      "source": [
        "# 4. Добавление столбца.\n",
        "# Например, добавим каждой станции условное обозначение - идентификатор\n",
        "df_exted.insert(0, 'id', ['1', '2', '3', '4', '5'])\n",
        "\n",
        "print(df_exted)\n",
        "print()\n",
        "\n",
        "# Установка id в качестве индекса строки\n",
        "df_exted = df_exted.set_index('id')\n",
        "\n",
        "print(df_exted)"
      ],
      "metadata": {
        "colab": {
          "base_uri": "https://localhost:8080/"
        },
        "id": "IcrWQ_Jj0j0v",
        "outputId": "fc495d04-5927-4a66-8c59-f62d1a6ba118"
      },
      "execution_count": 81,
      "outputs": [
        {
          "output_type": "stream",
          "name": "stdout",
          "text": [
            "  id       Название ТЭС  Мощность    Собственник\n",
            "0  1  Сургутская ГРЭС-2      5657         Юнипро\n",
            "1  2    Рефтинская ГРЭС      3800  Кузбассэнерго\n",
            "2  3   Костромская ГРЭС      3600      Интер РАО\n",
            "3  4      Пермская ГРЭС      3363      Интер РАО\n",
            "4  5  Сургутская ГРЭС-1      3333          ОГК-2\n",
            "\n",
            "         Название ТЭС  Мощность    Собственник\n",
            "id                                            \n",
            "1   Сургутская ГРЭС-2      5657         Юнипро\n",
            "2     Рефтинская ГРЭС      3800  Кузбассэнерго\n",
            "3    Костромская ГРЭС      3600      Интер РАО\n",
            "4       Пермская ГРЭС      3363      Интер РАО\n",
            "5   Сургутская ГРЭС-1      3333          ОГК-2\n"
          ]
        }
      ]
    },
    {
      "cell_type": "code",
      "source": [
        "# 5. Сортировка\n",
        "df_exted = df_exted.sort_values(['Название ТЭС'])\n",
        "print(df_exted)\n",
        "print()\n",
        "\n",
        "# ascending задает сортировку по убыванию или возрастанию\n",
        "# по умолчанию True - сортировка по убыванию, если поставить False, то будет по возрастанию\n",
        "df_exted = df_exted.sort_values(['Мощность'], ascending = True)\n",
        "print(df_exted)"
      ],
      "metadata": {
        "colab": {
          "base_uri": "https://localhost:8080/"
        },
        "id": "vfY66jWn2DHA",
        "outputId": "5b8344c3-7454-4703-9e64-e48eed328491"
      },
      "execution_count": 83,
      "outputs": [
        {
          "output_type": "stream",
          "name": "stdout",
          "text": [
            "         Название ТЭС  Мощность    Собственник\n",
            "id                                            \n",
            "3    Костромская ГРЭС      3600      Интер РАО\n",
            "4       Пермская ГРЭС      3363      Интер РАО\n",
            "2     Рефтинская ГРЭС      3800  Кузбассэнерго\n",
            "5   Сургутская ГРЭС-1      3333          ОГК-2\n",
            "1   Сургутская ГРЭС-2      5657         Юнипро\n",
            "\n",
            "         Название ТЭС  Мощность    Собственник\n",
            "id                                            \n",
            "5   Сургутская ГРЭС-1      3333          ОГК-2\n",
            "4       Пермская ГРЭС      3363      Интер РАО\n",
            "3    Костромская ГРЭС      3600      Интер РАО\n",
            "2     Рефтинская ГРЭС      3800  Кузбассэнерго\n",
            "1   Сургутская ГРЭС-2      5657         Юнипро\n"
          ]
        }
      ]
    },
    {
      "cell_type": "code",
      "source": [
        "# 6. Создание столбцов на основе вычислений.\n",
        "# Чтобы случайно не испортить df_exted, будем работать с копией\n",
        "df_exted_2 = df_exted.copy()\n",
        "\n",
        "# Добавление столбца на основе формулы делается легко\n",
        "df_exted_2['выработка_за_сутки'] = df_exted_2['Мощность'] * 24 # 24 часа в сутках\n",
        "\n",
        "# Сложности могут возникнуть когда нужно реализовать условия и работать с текстовыми данными.\n",
        "# Например, нужно по названию определить тип электростанции.\n",
        "# Условия можно задавать через NumPy функцию where, а поиск подстроки в строке через find.\n",
        "# Так можно одной строкой задать целый алгоритм:\n",
        "# если в имени есть ГЭС:\n",
        "#   тип - ГЭС;\n",
        "# иначе\n",
        "#   если в имени есть ТЭЦ:\n",
        "#     тип - ТЭЦ\n",
        "#   иначе\n",
        "#     тип - не определен\n",
        "\n",
        "df_exted_2['тип'] = np.where(df_exted_2['Название ТЭС'].str.find('ГЭС') >= 0, 'ГЭС', np.where(df_exted_2['Название ТЭС'].str.find('ТЭЦ') >= 0, 'ТЭЦ', '?'))\n",
        "\n",
        "print(df_exted_2)\n",
        "print()\n",
        "\n",
        "# Легко применить расчеты, используя несколько столбцов сразу\n",
        "df_exted_2['проверка_расчетов'] =  df_exted_2['выработка_за_сутки'] / df_exted_2['Мощность'] == 24\n",
        "print(df_exted_2)"
      ],
      "metadata": {
        "colab": {
          "base_uri": "https://localhost:8080/"
        },
        "id": "jNxDjEcc3ugn",
        "outputId": "e711f854-a3c2-4e26-fba8-497a890f731b"
      },
      "execution_count": 84,
      "outputs": [
        {
          "output_type": "stream",
          "name": "stdout",
          "text": [
            "         Название ТЭС  Мощность    Собственник  выработка_за_сутки тип\n",
            "id                                                                    \n",
            "5   Сургутская ГРЭС-1      3333          ОГК-2               79992   ?\n",
            "4       Пермская ГРЭС      3363      Интер РАО               80712   ?\n",
            "3    Костромская ГРЭС      3600      Интер РАО               86400   ?\n",
            "2     Рефтинская ГРЭС      3800  Кузбассэнерго               91200   ?\n",
            "1   Сургутская ГРЭС-2      5657         Юнипро              135768   ?\n",
            "\n",
            "         Название ТЭС  Мощность    Собственник  выработка_за_сутки тип  \\\n",
            "id                                                                       \n",
            "5   Сургутская ГРЭС-1      3333          ОГК-2               79992   ?   \n",
            "4       Пермская ГРЭС      3363      Интер РАО               80712   ?   \n",
            "3    Костромская ГРЭС      3600      Интер РАО               86400   ?   \n",
            "2     Рефтинская ГРЭС      3800  Кузбассэнерго               91200   ?   \n",
            "1   Сургутская ГРЭС-2      5657         Юнипро              135768   ?   \n",
            "\n",
            "    проверка_расчетов  \n",
            "id                     \n",
            "5                True  \n",
            "4                True  \n",
            "3                True  \n",
            "2                True  \n",
            "1                True  \n"
          ]
        }
      ]
    },
    {
      "cell_type": "code",
      "source": [
        "# 7.2. Через loc по именам строк и столбцов\n",
        "print('данные из строк \\'3\\' и \\'2\\' и столбцов \\'имя\\' и \\'мощность\\'')\n",
        "print(df_exted_2.loc[['3', '2'], ['Название ТЭС', 'Мощность']])\n",
        "print()\n",
        "print('все данные из строки \\'4\\'')\n",
        "print(df_exted_2.loc[['4']])\n",
        "print()"
      ],
      "metadata": {
        "colab": {
          "base_uri": "https://localhost:8080/"
        },
        "id": "59gHph1L3FHc",
        "outputId": "c37f229b-a24e-4d03-fc85-ed35d0e89ad3"
      },
      "execution_count": 86,
      "outputs": [
        {
          "output_type": "stream",
          "name": "stdout",
          "text": [
            "данные из строк '3' и '2' и столбцов 'имя' и 'мощность'\n",
            "        Название ТЭС  Мощность\n",
            "id                            \n",
            "3   Костромская ГРЭС      3600\n",
            "2    Рефтинская ГРЭС      3800\n",
            "\n",
            "все данные из строки '4'\n",
            "     Название ТЭС  Мощность Собственник  выработка_за_сутки тип  \\\n",
            "id                                                                \n",
            "4   Пермская ГРЭС      3363   Интер РАО               80712   ?   \n",
            "\n",
            "    проверка_расчетов  \n",
            "id                     \n",
            "4                True  \n",
            "\n"
          ]
        }
      ]
    },
    {
      "cell_type": "code",
      "source": [
        "# 8. Удаление столбцов.\n",
        "df_exted = df_exted_2.drop(['проверка_расчетов'], axis='columns')\n",
        "\n",
        "print(df_exted)"
      ],
      "metadata": {
        "colab": {
          "base_uri": "https://localhost:8080/"
        },
        "id": "cly3jrqE5K2y",
        "outputId": "35f6357e-8b05-4f57-8287-80e50486de39"
      },
      "execution_count": 87,
      "outputs": [
        {
          "output_type": "stream",
          "name": "stdout",
          "text": [
            "         Название ТЭС  Мощность    Собственник  выработка_за_сутки тип\n",
            "id                                                                    \n",
            "5   Сургутская ГРЭС-1      3333          ОГК-2               79992   ?\n",
            "4       Пермская ГРЭС      3363      Интер РАО               80712   ?\n",
            "3    Костромская ГРЭС      3600      Интер РАО               86400   ?\n",
            "2     Рефтинская ГРЭС      3800  Кузбассэнерго               91200   ?\n",
            "1   Сургутская ГРЭС-2      5657         Юнипро              135768   ?\n"
          ]
        }
      ]
    },
    {
      "cell_type": "code",
      "source": [
        "# 9. Выборка данных по условию.\n",
        "# Выбрать электростанции с мощностью выше 400 МВт\n",
        "print(df_exted[df_exted['Мощность'] > 400.])\n",
        "print()\n",
        "\n",
        "# Можно писать короче, если имя столбца не содержит пробела\n",
        "print(df_exted[df_exted.Мощность > 400.])\n",
        "print()\n",
        "\n",
        "# Выбрать электростанции с мощностью выше 400 МВт\n",
        "print(df_exted[(df_exted.Мощность > 400.)])\n",
        "print()\n",
        "\n",
        "# Выбрать электростанции с мощностью выше 1000 МВт\n",
        "print(df_exted[(df_exted.Мощность > 1000.)])"
      ],
      "metadata": {
        "colab": {
          "base_uri": "https://localhost:8080/"
        },
        "id": "MZ_E70g-5MKw",
        "outputId": "c4625f8b-02f8-4fff-ed86-86973fe16198"
      },
      "execution_count": 92,
      "outputs": [
        {
          "output_type": "stream",
          "name": "stdout",
          "text": [
            "         Название ТЭС  Мощность    Собственник  выработка_за_сутки тип\n",
            "id                                                                    \n",
            "5   Сургутская ГРЭС-1      3333          ОГК-2               79992   ?\n",
            "4       Пермская ГРЭС      3363      Интер РАО               80712   ?\n",
            "3    Костромская ГРЭС      3600      Интер РАО               86400   ?\n",
            "2     Рефтинская ГРЭС      3800  Кузбассэнерго               91200   ?\n",
            "1   Сургутская ГРЭС-2      5657         Юнипро              135768   ?\n",
            "\n",
            "         Название ТЭС  Мощность    Собственник  выработка_за_сутки тип\n",
            "id                                                                    \n",
            "5   Сургутская ГРЭС-1      3333          ОГК-2               79992   ?\n",
            "4       Пермская ГРЭС      3363      Интер РАО               80712   ?\n",
            "3    Костромская ГРЭС      3600      Интер РАО               86400   ?\n",
            "2     Рефтинская ГРЭС      3800  Кузбассэнерго               91200   ?\n",
            "1   Сургутская ГРЭС-2      5657         Юнипро              135768   ?\n",
            "\n",
            "         Название ТЭС  Мощность    Собственник  выработка_за_сутки тип\n",
            "id                                                                    \n",
            "5   Сургутская ГРЭС-1      3333          ОГК-2               79992   ?\n",
            "4       Пермская ГРЭС      3363      Интер РАО               80712   ?\n",
            "3    Костромская ГРЭС      3600      Интер РАО               86400   ?\n",
            "2     Рефтинская ГРЭС      3800  Кузбассэнерго               91200   ?\n",
            "1   Сургутская ГРЭС-2      5657         Юнипро              135768   ?\n",
            "\n",
            "         Название ТЭС  Мощность    Собственник  выработка_за_сутки тип\n",
            "id                                                                    \n",
            "5   Сургутская ГРЭС-1      3333          ОГК-2               79992   ?\n",
            "4       Пермская ГРЭС      3363      Интер РАО               80712   ?\n",
            "3    Костромская ГРЭС      3600      Интер РАО               86400   ?\n",
            "2     Рефтинская ГРЭС      3800  Кузбассэнерго               91200   ?\n",
            "1   Сургутская ГРЭС-2      5657         Юнипро              135768   ?\n"
          ]
        }
      ]
    },
    {
      "cell_type": "code",
      "source": [
        "# 10. Статистические расчеты по сгруппированным данным.\n",
        "\n",
        "# Число электростанций по мощности выше 500 МВт и разделением по собственникам\n",
        "print(df_exted.groupby(['Собственник', df_exted['Мощность'] > 500])['Мощность'].count())\n",
        "print()"
      ],
      "metadata": {
        "colab": {
          "base_uri": "https://localhost:8080/"
        },
        "id": "TAmoVpNi9ejz",
        "outputId": "c735fa97-e0b0-42b0-ca69-89abb35f4b4c"
      },
      "execution_count": 95,
      "outputs": [
        {
          "output_type": "stream",
          "name": "stdout",
          "text": [
            "Собственник    Мощность\n",
            "Интер РАО      True        2\n",
            "Кузбассэнерго  True        1\n",
            "ОГК-2          True        1\n",
            "Юнипро         True        1\n",
            "Name: Мощность, dtype: int64\n",
            "\n"
          ]
        }
      ]
    },
    {
      "cell_type": "code",
      "source": [
        "# 13. Гистограмма после группировки\n",
        "df_exted.groupby(['Мощность']).sum().plot(kind = 'barh')\n",
        "print()"
      ],
      "metadata": {
        "colab": {
          "base_uri": "https://localhost:8080/",
          "height": 502
        },
        "id": "1KIXsEDp-WjY",
        "outputId": "3bb6396b-2815-43da-a7c7-a15218113ad4"
      },
      "execution_count": 108,
      "outputs": [
        {
          "output_type": "stream",
          "name": "stderr",
          "text": [
            "<ipython-input-108-1a37f06f4e5e>:2: FutureWarning: The default value of numeric_only in DataFrameGroupBy.sum is deprecated. In a future version, numeric_only will default to False. Either specify numeric_only or select only columns which should be valid for the function.\n",
            "  df_exted.groupby(['Мощность']).sum().plot(kind = 'barh')\n"
          ]
        },
        {
          "output_type": "stream",
          "name": "stdout",
          "text": [
            "\n"
          ]
        },
        {
          "output_type": "display_data",
          "data": {
            "text/plain": [
              "<Figure size 640x480 with 1 Axes>"
            ],
            "image/png": "[encoded data removed]"
          },
          "metadata": {}
        }
      ]
    },
    {
      "cell_type": "code",
      "source": [
        "# 13. Круговая гистограмма\n",
        "from matplotlib import pyplot as plt\n",
        "import numpy as np\n",
        "\n",
        "\n",
        "# Creating dataset\n",
        "Мощности = ['5657', '3800', '3600',\n",
        "        '3363', '3333']\n",
        "\n",
        "data = [5657, 3800, 3600, 3363, 3333]\n",
        "\n",
        "# Creating plot\n",
        "fig = plt.figure(figsize =(10, 7))\n",
        "plt.pie(data, labels = Мощности)\n",
        "# show plot\n",
        "plt.show()\n"
      ],
      "metadata": {
        "colab": {
          "base_uri": "https://localhost:8080/",
          "height": 576
        },
        "id": "OX6WIu8H-470",
        "outputId": "45c35b74-540f-4576-d6e1-9dc2b9a5707d"
      },
      "execution_count": 127,
      "outputs": [
        {
          "output_type": "display_data",
          "data": {
            "text/plain": [
              "<Figure size 1000x700 with 1 Axes>"
            ],
            "image/png": "[encoded data removed]"
          },
          "metadata": {}
        }
      ]
    }
  ]
}