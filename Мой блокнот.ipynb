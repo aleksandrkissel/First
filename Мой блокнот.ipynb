{
  "nbformat": 4,
  "nbformat_minor": 0,
  "metadata": {
    "colab": {
      "provenance": [],
      "authorship_tag": "ABX9TyNRTNDsuVmTN/IuPE6IrKiT",
      "include_colab_link": true
    },
    "kernelspec": {
      "name": "python3",
      "display_name": "Python 3"
    },
    "language_info": {
      "name": "python"
    }
  },
  "cells": [
    {
      "cell_type": "markdown",
      "metadata": {
        "id": "view-in-github",
        "colab_type": "text"
      },
      "source": [
        "<a href=\"https://colab.research.google.com/github/aleksandrkissel/First/blob/master/%D0%9C%D0%BE%D0%B9%20%D0%B1%D0%BB%D0%BE%D0%BA%D0%BD%D0%BE%D1%82.ipynb\" target=\"_parent\"><img src=\"https://colab.research.google.com/assets/colab-badge.svg\" alt=\"Open In Colab\"/></a>"
      ]
    },
    {
      "cell_type": "code",
      "execution_count": null,
      "metadata": {
        "id": "RKRFraSsyD1l"
      },
      "outputs": [],
      "source": []
    },
    {
      "cell_type": "markdown",
      "source": [
        "# Лабораторная работа №1(Киссель Александр)\n",
        "## Пример пользования Markdown\n",
        "###**Маркированный список**\n",
        "Список марок автомобилей:\n",
        "*  BMW\n",
        "*  Mercedes\n",
        "*  AUDI\n",
        "*  TOYOTA\n",
        "*  HONDA\n",
        "*  HUYNDAI\n",
        "\n",
        "#**Таблица**\n",
        "|ФИО консультанта|Кол-во отработанных часов\n",
        "|:-|:----|\n",
        "|Сигаретов Иван Дмитриевич|15|\n",
        "|Московских Наталья Петрова|37|\n",
        "|Новокультовых Дмитрий Анатольевич|66|\n",
        "|Непей-пиво Наталья Владимировна|24|\n",
        "\n",
        "\n",
        "#**Рисунок**\n",
        "![Изображение](https://fonwall.ru/wallpaper/volvo-cars-artstation-coco/)\n",
        "\n",
        "#**Ссылка**\n",
        "[Cсылка на сайт](https://fonwall.ru/search?q=%D0%BC%D0%B0%D1%88%D0%B8%D0%BD%D1%8B)"
      ],
      "metadata": {
        "id": "RsYLef-Gy-ZS"
      }
    }
  ]
}