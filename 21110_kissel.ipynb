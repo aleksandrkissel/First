{
  "nbformat": 4,
  "nbformat_minor": 0,
  "metadata": {
    "colab": {
      "provenance": [],
      "authorship_tag": "ABX9TyM3UDzgcWMpi3WiepqR3iAq",
      "include_colab_link": true
    },
    "kernelspec": {
      "name": "python3",
      "display_name": "Python 3"
    },
    "language_info": {
      "name": "python"
    }
  },
  "cells": [
    {
      "cell_type": "markdown",
      "metadata": {
        "id": "view-in-github",
        "colab_type": "text"
      },
      "source": [
        "<a href=\"https://colab.research.google.com/github/aleksandrkissel/First/blob/master/21110_kissel.ipynb\" target=\"_parent\"><img src=\"https://colab.research.google.com/assets/colab-badge.svg\" alt=\"Open In Colab\"/></a>"
      ]
    },
    {
      "cell_type": "code",
      "source": [
        "### Заголок третьего уровня\n",
        "`**bold text**`\n",
        "`![An image](https://www.google.com/images/rss.png)`\n",
        "![Текст с описанием картинки](https://ru.freepik.com/free-photo/tiger-looking-with-the-open-mouth_5554756.htm#query=animal&position=0&from_view=keyword&track=sph)"
      ],
      "metadata": {
        "colab": {
          "base_uri": "https://localhost:8080/",
          "height": 132
        },
        "id": "8R2m9aBcM71x",
        "outputId": "f5d5a78f-9554-4818-8f80-2cdc2846383e"
      },
      "execution_count": 12,
      "outputs": [
        {
          "output_type": "error",
          "ename": "SyntaxError",
          "evalue": "ignored",
          "traceback": [
            "\u001b[0;36m  File \u001b[0;32m\"<ipython-input-12-0f4feae5fa63>\"\u001b[0;36m, line \u001b[0;32m2\u001b[0m\n\u001b[0;31m    `**bold text**`\u001b[0m\n\u001b[0m    ^\u001b[0m\n\u001b[0;31mSyntaxError\u001b[0m\u001b[0;31m:\u001b[0m invalid syntax\n"
          ]
        }
      ]
    },
    {
      "cell_type": "code",
      "source": [
        "|     |     |     |     |\n",
        "|-----|-----|-----|-----|\n",
        "| 17  | 53  | 33  | 44  |\n",
        "| 23  | 34  | 12  | 55  |\n",
        "| 34  | 34  | 66  | 77  |"
      ],
      "metadata": {
        "colab": {
          "base_uri": "https://localhost:8080/",
          "height": 132
        },
        "id": "UnqS0TuyMXxU",
        "outputId": "83b9bfb3-08d7-42ee-9175-3f054e234812"
      },
      "execution_count": 8,
      "outputs": [
        {
          "output_type": "error",
          "ename": "SyntaxError",
          "evalue": "ignored",
          "traceback": [
            "\u001b[0;36m  File \u001b[0;32m\"<ipython-input-8-3bae8f06955b>\"\u001b[0;36m, line \u001b[0;32m1\u001b[0m\n\u001b[0;31m    |   |   |   |   |   |\u001b[0m\n\u001b[0m    ^\u001b[0m\n\u001b[0;31mSyntaxError\u001b[0m\u001b[0;31m:\u001b[0m invalid syntax\n"
          ]
        }
      ]
    }
  ]
}